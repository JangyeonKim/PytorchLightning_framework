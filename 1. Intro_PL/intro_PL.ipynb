{
 "cells": [
  {
   "attachments": {},
   "cell_type": "markdown",
   "metadata": {},
   "source": [
    "<span style=\"color: #ffd33d\">모델 작성</span>\n",
    "-----------"
   ]
  },
  {
   "attachments": {
    "image.png": {
     "image/png": "[encoded data removed]"
    }
   },
   "cell_type": "markdown",
   "metadata": {},
   "source": [
    "![image.png](attachment:image.png)"
   ]
  },
  {
   "cell_type": "code",
   "execution_count": null,
   "metadata": {},
   "outputs": [],
   "source": [
    "# 예시 코드\n",
    "\n",
    "import pytorch_lightning as pl\n",
    "\n",
    "class LitModel(pl.LightningModule): # LightningModule을 상속받는 새로운 클래스 작성 (pytorch에서 nn.Module을 상속받는 것과 비슷)\n",
    "    def __init__(self):\n",
    "        super().__init__()\n",
    "        self.l1 = nn.Linear(28 * 28, 10)\n",
    "\n",
    "    def forward(self, x):\n",
    "        return torch.relu(self.l1(x.view(x.size(0), -1)))\n",
    "\n",
    "    def training_step(self, batch, batch_idx):\n",
    "        x, y = batch\n",
    "        y_hat = self(x)\n",
    "        loss = F.cross_entropy(y_hat, y)\n",
    "        return loss\n",
    "\n",
    "    def configure_optimizers(self):\n",
    "        return torch.optim.Adam(self.parameters(), lr=0.02)\n",
    "\n",
    "train_loader = DataLoader(MNIST(os.getcwd(), download=True, transform=transforms.ToTensor())) # 데이터 준비\n",
    "\n",
    "trainer = pl.Trainer() # Trainer 객체 생성\n",
    "model = LitModel()\n",
    "trainer.fit(model, train_loader) # 학습 시작"
   ]
  },
  {
   "attachments": {},
   "cell_type": "markdown",
   "metadata": {},
   "source": [
    "<span style=\"color: #ffd33d\">LightningModule Class</span>\n",
    "-----------"
   ]
  },
  {
   "attachments": {},
   "cell_type": "markdown",
   "metadata": {},
   "source": [
    "- 기존 PyTorch는 DataLoader, Mode, optimizer, Training loof 등을 전부 따로따로 코드로 구현\n",
    "- Pytorch Lightning에서는 Lightning Model class 안에 이 모든것을 한번에 구현\n",
    "    - ligthning module을 정의하기 위해 LightningModule 클래스를 상속받고 모델, training, validation, test 루프 그리고 optimizer 등을 구현"
   ]
  },
  {
   "cell_type": "code",
   "execution_count": null,
   "metadata": {},
   "outputs": [],
   "source": [
    "import pytorch_lightning as pl\n",
    "\n",
    "class Classifier(pl.LightningModule) :\n",
    "    def __init__(self) : # Lightning Module class에서 사용할 신경망 정의\n",
    "        super().__init__()\n",
    "        self.model = nn.Sequential(\n",
    "            ...\n",
    "        )\n",
    "    \n",
    "    def forward(self, x) : # 모델의 inference를 위한 forward 정의\n",
    "        return self.model(x)\n",
    "    \n",
    "    def training_step(self, batch, batch_idx): # nn.Module의 forward와 유사하지만, 단일 배치에서의 loss을 반환\n",
    "        x, y = batch                           # trainer의 설정에 따라 batch의 tensor를 자동으로 cpu 혹은 gpu 텐서로 변환\n",
    "        y_hat = self.model(x)\n",
    "        loss = F.cross_entropy(y_hat, y)\n",
    "        self.log('train_loss', loss, on_step=True, on_epoch=True, prog_bar=True, logger=True) # logging을 위한 log 메서드. \n",
    "        return loss                                                                           \n",
    "    \n",
    "    def training_epoch_end(self, training_step_outputs) : # training_step의 결과를 받아 epoch 단위의 loss를 반환\n",
    "        for pred in training_step_outputs :\n",
    "            ...\n",
    "\n",
    "    def validation_step(self, batch, batch_idx): # 학습 중간에 모델의 성능을 체크\n",
    "        pass\n",
    "    \n",
    "    def validation_epoch_end(self, validation_step_outputs) : # validation_step의 결과를 받아 epoch 단위의 loss를 반환\n",
    "        pass\n",
    "\n",
    "    def test_step(self, batch, batch_idx): # 호출할 때는 trainer.test()로 호출. \n",
    "        pass\n",
    "\n",
    "    def configure_optimizers(self): # optimizer와 learning rate scheduler를 구현. 반환\n",
    "        optimizer = torch.optim.Adam(self.parameters(), lr=1e-4)\n",
    "    "
   ]
  }
 ],
 "metadata": {
  "kernelspec": {
   "display_name": "ver38",
   "language": "python",
   "name": "python3"
  },
  "language_info": {
   "name": "python",
   "version": "3.8.16"
  },
  "orig_nbformat": 4
 },
 "nbformat": 4,
 "nbformat_minor": 2
}
